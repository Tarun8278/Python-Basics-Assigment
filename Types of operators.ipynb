{
 "cells": [
  {
   "cell_type": "code",
   "execution_count": 1,
   "id": "68f57243-5fd8-494d-a48c-9ea3effffe39",
   "metadata": {},
   "outputs": [],
   "source": [
    "## Discuss the different types of operators in Python and provide examples of how they are used\n",
    "\n",
    "# In Python, operators are special symbols that perform operations on variables and values. They can be categorized into several types, each serving different purposes. Here’s an overview of the main types of operators in Python, along with examples for each."
   ]
  },
  {
   "cell_type": "code",
   "execution_count": 2,
   "id": "054da926-e976-49f9-81d9-8da53dd66cff",
   "metadata": {},
   "outputs": [
    {
     "name": "stdout",
     "output_type": "stream",
     "text": [
      "13\n",
      "7\n",
      "30\n",
      "3.3333333333333335\n",
      "3\n",
      "1\n",
      "1000\n"
     ]
    }
   ],
   "source": [
    "# 1 Arithmetic Operators\n",
    "# These operators are used for mathematical calculations.\n",
    "# 1 Addition (+)\n",
    "# 2 Subtraction (-)\n",
    "# 3 Multiplication (*)\n",
    "# 4 Division (/)\n",
    "# 5 Floor Division (//)\n",
    "# 6 Modulus (%)\n",
    "# 7 Exponentiation (**)\n",
    "\n",
    "## examples:-\n",
    "\n",
    "a = 10\n",
    "b = 3\n",
    "\n",
    "print(a + b)  # Output: 13\n",
    "print(a - b)  # Output: 7\n",
    "print(a * b)  # Output: 30\n",
    "print(a / b)  # Output: 3.3333...\n",
    "print(a // b) # Output: 3\n",
    "print(a % b)  # Output: 1\n",
    "print(a ** b) # Output: 1000\n"
   ]
  },
  {
   "cell_type": "code",
   "execution_count": 3,
   "id": "e943d55b-7b70-455b-b737-ffea3fd508ca",
   "metadata": {},
   "outputs": [
    {
     "name": "stdout",
     "output_type": "stream",
     "text": [
      "False\n",
      "True\n",
      "False\n",
      "True\n",
      "False\n",
      "True\n"
     ]
    }
   ],
   "source": [
    "# 2. Comparison Operators\n",
    "#These operators compare two values and return a boolean result.\n",
    "\n",
    "# 1 Equal to (==)\n",
    "# 2 Not equal to (!=)\n",
    "# 3 Greater than (>)\n",
    "# 4 Less than (<)\n",
    "# 5 Greater than or equal to (>=)\n",
    "# 6 Less than or equal to (<=)\n",
    "\n",
    "## examples:-\n",
    "x = 5\n",
    "y = 10\n",
    "\n",
    "print(x == y)  # Output: False\n",
    "print(x != y)  # Output: True\n",
    "print(x > y)   # Output: False\n",
    "print(x < y)   # Output: True\n",
    "print(x >= y)  # Output: False\n",
    "print(x <= y)  # Output: True\n"
   ]
  },
  {
   "cell_type": "code",
   "execution_count": 4,
   "id": "fd30493a-f214-474e-8d20-968e78bc1d22",
   "metadata": {},
   "outputs": [
    {
     "name": "stdout",
     "output_type": "stream",
     "text": [
      "7\n",
      "21\n"
     ]
    }
   ],
   "source": [
    "# 3. Assignment Operators\n",
    "# These operators are used to assign values to variables.\n",
    "\n",
    "#1 Assign (=)\n",
    "#2 Add and assign (+=)\n",
    "#3 Subtract and assign (-=)\n",
    "#4 Multiply and assign (*=)\n",
    "#5 Divide and assign (/=)\n",
    "#6 Floor divide and assign (//=)\n",
    "#7 Modulus and assign (%=)\n",
    "#8 Exponentiate and assign (**=)\n",
    "\n",
    "## examples:-\n",
    "z = 5\n",
    "z += 2  # Equivalent to z = z + 2\n",
    "print(z)  # Output: 7\n",
    "\n",
    "z *= 3  # Equivalent to z = z * 3\n",
    "print(z)  # Output: 21\n"
   ]
  },
  {
   "cell_type": "code",
   "execution_count": 5,
   "id": "8e122bc7-7db2-46da-9b1f-6a3665cc792a",
   "metadata": {},
   "outputs": [
    {
     "name": "stdout",
     "output_type": "stream",
     "text": [
      "False\n",
      "True\n",
      "False\n"
     ]
    }
   ],
   "source": [
    "# 4. Logical Operators\n",
    "# These operators are used to combine conditional statements.\n",
    "\n",
    "#1 And (and)\n",
    "#2 Or (or)\n",
    "#3 Not (not)\n",
    "\n",
    "## examples:-\n",
    "a = True\n",
    "b = False\n",
    "\n",
    "print(a and b)  # Output: False\n",
    "print(a or b)   # Output: True\n",
    "print(not a)    # Output: False\n"
   ]
  },
  {
   "cell_type": "code",
   "execution_count": 6,
   "id": "4f27818c-4bd7-427a-bdf2-a30429197fad",
   "metadata": {},
   "outputs": [
    {
     "name": "stdout",
     "output_type": "stream",
     "text": [
      "1\n",
      "7\n",
      "6\n",
      "-6\n",
      "10\n",
      "2\n"
     ]
    }
   ],
   "source": [
    "# 5. Bitwise Operators\n",
    "# These operators perform operations on binary numbers.\n",
    "\n",
    "#1 AND (&)\n",
    "#2 OR (|)\n",
    "#3 NOT (~)\n",
    "#4 XOR (^)\n",
    "#5 Left Shift (<<)\n",
    "#6 Right Shift (>>)\n",
    "\n",
    "## examples:-\n",
    "a = 5  # (binary: 0101)\n",
    "b = 3  # (binary: 0011)\n",
    "\n",
    "print(a & b)  # Output: 1 (binary: 0001)\n",
    "print(a | b)  # Output: 7 (binary: 0111)\n",
    "print(a ^ b)  # Output: 6 (binary: 0110)\n",
    "print(~a)     # Output: -6 (binary: 1010 in two's complement)\n",
    "print(a << 1) # Output: 10 (binary: 1010)\n",
    "print(a >> 1) # Output: 2 (binary: 0010)\n"
   ]
  },
  {
   "cell_type": "code",
   "execution_count": 7,
   "id": "2f870f43-637d-4e18-9fc8-eaaf626a18b9",
   "metadata": {},
   "outputs": [
    {
     "name": "stdout",
     "output_type": "stream",
     "text": [
      "True\n",
      "False\n",
      "True\n"
     ]
    }
   ],
   "source": [
    "# 6. Identity Operators\n",
    "# These operators check if two variables point to the same object.\n",
    "\n",
    "#1 Is (is)\n",
    "#2 Is not (is not)\n",
    "\n",
    "## examples:-\n",
    "x = [1, 2, 3]\n",
    "y = x\n",
    "z = [1, 2, 3]\n",
    "\n",
    "print(x is y)    # Output: True (same object)\n",
    "print(x is z)    # Output: False (different objects)\n",
    "print(x == z)    # Output: True (same content)\n"
   ]
  },
  {
   "cell_type": "code",
   "execution_count": 8,
   "id": "c84284fc-95ae-4bb2-acc5-668806fea543",
   "metadata": {},
   "outputs": [
    {
     "name": "stdout",
     "output_type": "stream",
     "text": [
      "True\n",
      "True\n"
     ]
    }
   ],
   "source": [
    "# 7. Membership Operators\n",
    "# These operators check for membership within a sequence (like a list, tuple, or string).\n",
    "\n",
    "#1 In (in)\n",
    "#2 Not in (not in)\n",
    "\n",
    "## examples:-\n",
    "my_list = [1, 2, 3, 4]\n",
    "\n",
    "print(3 in my_list)       # Output: True\n",
    "print(5 not in my_list)   # Output: True\n"
   ]
  },
  {
   "cell_type": "code",
   "execution_count": 9,
   "id": "7d486354-3f71-4558-8776-282b30e73047",
   "metadata": {},
   "outputs": [],
   "source": [
    "# Conclusion\n",
    "\n",
    "# Python provides a wide range of operators that facilitate various operations on data. Understanding how to use these operators effectively is key to writing efficient and clear code. Each type of operator serves specific purposes, whether for calculations, comparisons, logical evaluations, or manipulating data structures."
   ]
  },
  {
   "cell_type": "code",
   "execution_count": null,
   "id": "80900aa9-17aa-4eea-8b84-d17307155ced",
   "metadata": {},
   "outputs": [],
   "source": []
  }
 ],
 "metadata": {
  "kernelspec": {
   "display_name": "Python 3 (ipykernel)",
   "language": "python",
   "name": "python3"
  },
  "language_info": {
   "codemirror_mode": {
    "name": "ipython",
    "version": 3
   },
   "file_extension": ".py",
   "mimetype": "text/x-python",
   "name": "python",
   "nbconvert_exporter": "python",
   "pygments_lexer": "ipython3",
   "version": "3.12.7"
  }
 },
 "nbformat": 4,
 "nbformat_minor": 5
}

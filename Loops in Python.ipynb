{
 "cells": [
  {
   "cell_type": "code",
   "execution_count": 1,
   "id": "33fe9391-f59e-48a5-bfbe-e8e14828eeac",
   "metadata": {},
   "outputs": [],
   "source": [
    "## Loops in Python"
   ]
  },
  {
   "cell_type": "code",
   "execution_count": 2,
   "id": "ad2b50ac-3c05-4632-a6d1-b8b8863e80ce",
   "metadata": {},
   "outputs": [],
   "source": [
    "##  Describe the different types of loops in Python and their use cases with examples.\n"
   ]
  },
  {
   "cell_type": "code",
   "execution_count": null,
   "id": "52c3aae6-583f-4724-be08-5532099863da",
   "metadata": {},
   "outputs": [],
   "source": [
    "# Loops in Python are used to execute a block of code repeatedly based on certain conditions. There are three main types of loops in Python:\n",
    "\n",
    "#1 for loop\n",
    "#2 while loop\n",
    "#3 nested loop"
   ]
  },
  {
   "cell_type": "code",
   "execution_count": 7,
   "id": "7be49aee-6c93-4f16-8ac9-a4c8c97c9ae0",
   "metadata": {},
   "outputs": [
    {
     "ename": "IndentationError",
     "evalue": "unexpected indent (3743505643.py, line 7)",
     "output_type": "error",
     "traceback": [
      "\u001b[1;36m  Cell \u001b[1;32mIn[7], line 7\u001b[1;36m\u001b[0m\n\u001b[1;33m    for item in sequence:\u001b[0m\n\u001b[1;37m    ^\u001b[0m\n\u001b[1;31mIndentationError\u001b[0m\u001b[1;31m:\u001b[0m unexpected indent\n"
     ]
    }
   ],
   "source": [
    "# 1. The for Loop\n",
    "\n",
    "# The for loop is used to iterate over a sequence (such as a list, tuple, string, or range). It allows you to execute a block of code for each item in the sequence.\n",
    "\n",
    "# Basic Syntax: \n",
    "\n",
    " for item in sequence:\n",
    "    # block of code to execute for each item\n",
    "\n",
    "# Example 1: Looping over a list\n",
    "\n",
    "fruits = (\"apple\", \"banana\", \"cherry\")\n",
    "for fruit in fruits:\n",
    "    print(fruit)\n",
    "\n",
    "#insights >>In this example, the for loop iterates over each element in the fruits list and prints it.\n"
   ]
  },
  {
   "cell_type": "code",
   "execution_count": 8,
   "id": "d7ed41ed-c08f-4b29-8acb-89e76ae01208",
   "metadata": {},
   "outputs": [
    {
     "name": "stdout",
     "output_type": "stream",
     "text": [
      "0\n",
      "1\n",
      "2\n",
      "3\n",
      "4\n"
     ]
    }
   ],
   "source": [
    "\n",
    "# Example 2: Looping over a range of numbers\n",
    "\n",
    "for i in range(5):  # range(5) produces the numbers 0, 1, 2, 3, 4\n",
    "    print(i)\n",
    "\n",
    "#insights >>In this example, the range(5) generates a sequence of numbers from 0 to 4. The for loop iterates over this range, printing each number.\n",
    "\n",
    "#* Use Cases for for loop:\n",
    "    \n",
    "#1 When you need to iterate through a collection (like a list, tuple, or string).\n",
    "#2 When you know the number of iterations beforehand (e.g., iterating over a fixed range of numbers)."
   ]
  },
  {
   "cell_type": "code",
   "execution_count": 12,
   "id": "45ef8201-7297-4288-9348-2c56ddd8a2fa",
   "metadata": {},
   "outputs": [
    {
     "ename": "SyntaxError",
     "evalue": "incomplete input (1778734327.py, line 8)",
     "output_type": "error",
     "traceback": [
      "\u001b[1;36m  Cell \u001b[1;32mIn[12], line 8\u001b[1;36m\u001b[0m\n\u001b[1;33m    # block of code to execute as long as condition is True\u001b[0m\n\u001b[1;37m                                                           ^\u001b[0m\n\u001b[1;31mSyntaxError\u001b[0m\u001b[1;31m:\u001b[0m incomplete input\n"
     ]
    }
   ],
   "source": [
    "# 2. The while Loop\n",
    "\n",
    "# The while loop is used to execute a block of code as long as a condition is True. The loop continues to execute as long as the condition remains true. If the condition becomes False, the loop stops.\n",
    "\n",
    "# Basic Syntax:\n",
    "\n",
    "while condition:\n",
    "    # block of code to execute as long as condition is True\n"
   ]
  },
  {
   "cell_type": "code",
   "execution_count": 13,
   "id": "41ca27ac-348b-4537-bf7b-98a9d12660a5",
   "metadata": {},
   "outputs": [
    {
     "name": "stdout",
     "output_type": "stream",
     "text": [
      "5\n",
      "4\n",
      "3\n",
      "2\n",
      "1\n"
     ]
    }
   ],
   "source": [
    "# Example 1: Counting down with while loop \n",
    "\n",
    "x = 5\n",
    "while x > 0:\n",
    "    print(x)\n",
    "    x -= 1  # Decrement x by 1\n",
    "\n",
    "#insights >> Here, the while loop keeps running as long as x > 0. Each time the loop runs, x is decremented by 1 until x becomes 0, at which point the loop stops."
   ]
  },
  {
   "cell_type": "code",
   "execution_count": 14,
   "id": "6e7757d5-8c0f-4eb4-8aad-fb740cb371a3",
   "metadata": {},
   "outputs": [
    {
     "name": "stdout",
     "output_type": "stream",
     "text": [
      "This will loop forever!\n"
     ]
    }
   ],
   "source": [
    "# Example 2: Infinite loop with a while loop\n",
    "\n",
    "while True:\n",
    "    print(\"This will loop forever!\")\n",
    "    break  # Exits the loop after one iteration (for demonstration purposes)\n",
    "\n",
    "# Insights >> In this case, the condition True is always True, so the loop would run indefinitely unless we break out of it using the break statement.\n",
    "\n",
    "# Use Cases for while loop:\n",
    "# When you do not know the number of iterations beforehand, and you want the loop to continue as long as a condition is met (e.g., reading data until a certain condition is met).\n",
    "# When you need to loop based on user input or external data.\n"
   ]
  },
  {
   "cell_type": "code",
   "execution_count": 15,
   "id": "67a21df9-6d47-4dc1-a730-927f9a0cb2ba",
   "metadata": {},
   "outputs": [
    {
     "name": "stdout",
     "output_type": "stream",
     "text": [
      "i = 0, j = 0\n",
      "i = 0, j = 1\n",
      "i = 1, j = 0\n",
      "i = 1, j = 1\n",
      "i = 2, j = 0\n",
      "i = 2, j = 1\n"
     ]
    }
   ],
   "source": [
    "# 3. Nested Loops\n",
    "# A nested loop is a loop inside another loop. Nested loops are useful when you need to iterate over a multi-dimensional structure, like a list of lists (2D array).\n",
    "\n",
    "# Example: Nested (for) loop\n",
    "\n",
    "for i in range(3):  # Outer loop\n",
    "    for j in range(2):  # Inner loop\n",
    "        print(f\"i = {i}, j = {j}\")\n",
    "\n",
    "#insights>> In this example, the outer loop iterates over a range of 3, while the inner loop iterates over a range of 2. For each iteration of the outer loop, the inner loop runs completely.\n"
   ]
  },
  {
   "cell_type": "code",
   "execution_count": 16,
   "id": "2b8943af-1470-44b7-87b7-65a2b43a7593",
   "metadata": {},
   "outputs": [
    {
     "name": "stdout",
     "output_type": "stream",
     "text": [
      "i = 0, j = 0\n",
      "i = 0, j = 1\n",
      "i = 1, j = 0\n",
      "i = 1, j = 1\n",
      "i = 2, j = 0\n",
      "i = 2, j = 1\n"
     ]
    }
   ],
   "source": [
    "#Example: Nested (while) loop\n",
    "\n",
    "i = 0\n",
    "while i < 3:  # Outer loop\n",
    "    j = 0\n",
    "    while j < 2:  # Inner loop\n",
    "        print(f\"i = {i}, j = {j}\")\n",
    "        j += 1\n",
    "    i += 1\n",
    "\n",
    "#Use Cases for Nested Loops:\n",
    "    \n",
    "#1When working with multi-dimensional data structures, such as matrices or tables.\n",
    "#2When you need to perform an operation for every combination of two or more sets of data (e.g., comparing elements from two lists)."
   ]
  },
  {
   "cell_type": "code",
   "execution_count": 17,
   "id": "e10320ca-f43e-4877-83cd-50d5eacd21a6",
   "metadata": {},
   "outputs": [],
   "source": [
    "##Use Cases for Nested Loops:\n",
    "\n",
    "#When working with multi-dimensional data structures, such as matrices or tables.\n",
    "#When you need to perform an operation for every combination of two or more sets of data (e.g., comparing elements from two lists).\n"
   ]
  },
  {
   "cell_type": "code",
   "execution_count": 18,
   "id": "81543f99-f5c0-49f2-9848-9cb0f5e0ba07",
   "metadata": {},
   "outputs": [
    {
     "name": "stdout",
     "output_type": "stream",
     "text": [
      "0\n",
      "1\n",
      "2\n"
     ]
    }
   ],
   "source": [
    "## Loop Control Statements\n",
    "\n",
    "#In addition to the basic loop structures, Python provides several control statements that allow you to modify the behavior of loops:\n",
    "\n",
    "#1. break Statement\n",
    "# The break statement is used to exit the loop prematurely, even if the loop condition is still True.\n",
    "\n",
    "# Example:\n",
    "\n",
    "for i in range(5):\n",
    "    if i == 3:\n",
    "        break  # Exits the loop when i equals 3\n",
    "    print(i)\n",
    "# Insights>> Here, the loop stops when i == 3, and the break statement prevents further iterations."
   ]
  },
  {
   "cell_type": "code",
   "execution_count": 19,
   "id": "5c1f2385-1f48-433d-b846-350b42b594f8",
   "metadata": {},
   "outputs": [
    {
     "name": "stdout",
     "output_type": "stream",
     "text": [
      "0\n",
      "1\n",
      "2\n",
      "4\n"
     ]
    }
   ],
   "source": [
    "## 2. continue Statement\n",
    "#The continue statement is used to skip the current iteration and move to the next iteration of the loop.\n",
    "\n",
    "# Example:\n",
    "\n",
    "for i in range(5):\n",
    "    if i == 3:\n",
    "        continue  # Skips printing when i equals 3\n",
    "    print(i)\n",
    "\n",
    "# insights >> In this example, when i == 3, the continue statement skips the print statement, and the loop proceeds with the next iteration."
   ]
  },
  {
   "cell_type": "code",
   "execution_count": 20,
   "id": "fef10435-67c5-43ea-b8da-3153beaee712",
   "metadata": {},
   "outputs": [
    {
     "name": "stdout",
     "output_type": "stream",
     "text": [
      "0\n",
      "1\n",
      "2\n",
      "Loop completed without a break\n"
     ]
    }
   ],
   "source": [
    "# 3. else with Loops\n",
    "# You can use an else statement after a loop. The else block will execute after the loop finishes normally (i.e., without hitting a break statement).\n",
    "\n",
    "# Example:\n",
    "\n",
    "for i in range(3):\n",
    "    print(i)\n",
    "else:\n",
    "    print(\"Loop completed without a break\")\n",
    "\n",
    "#insights >> If the loop completes all iterations and does not exit due to a break statement, the else block will run."
   ]
  },
  {
   "cell_type": "code",
   "execution_count": 21,
   "id": "8174f778-6867-47af-8519-3f5812c2277c",
   "metadata": {},
   "outputs": [],
   "source": [
    "## Summary of Loops and Use Cases:\n",
    "\n",
    "#for loop: Ideal for iterating over sequences (like lists, tuples, strings) or ranges when you know the number of iterations in advance.\n",
    "\n",
    "#Use cases: Iterating over a list of items, processing elements in a collection, working with ranges of numbers.\n",
    "\n",
    "#while loop: Used when you want to repeat an action until a specific condition changes (often used when the number of iterations is not known).\n",
    "\n",
    "#Use cases: Reading input until a certain condition is met, continuously checking for an event.\n",
    "\n",
    "#Nested loops: Useful when dealing with multi-dimensional structures like matrices or when you need to perform actions on pairs (or groups) of elements.\n",
    "\n",
    "#Use cases: Processing 2D arrays or matrices, iterating over all pairs of elements in two lists.\n",
    "\n",
    "#Loop control statements (break, continue, else): Provide additional control over how loops behave.\n",
    "\n",
    "\n",
    "\n",
    "# By using the appropriate loop and control structures, you can write efficient and flexible code to handle repetitive tasks in Python.\n",
    "\n",
    "\n",
    "\n"
   ]
  },
  {
   "cell_type": "code",
   "execution_count": null,
   "id": "a438c991-0237-4549-8752-a976d7d2f885",
   "metadata": {},
   "outputs": [],
   "source": []
  }
 ],
 "metadata": {
  "kernelspec": {
   "display_name": "Python 3 (ipykernel)",
   "language": "python",
   "name": "python3"
  },
  "language_info": {
   "codemirror_mode": {
    "name": "ipython",
    "version": 3
   },
   "file_extension": ".py",
   "mimetype": "text/x-python",
   "name": "python",
   "nbconvert_exporter": "python",
   "pygments_lexer": "ipython3",
   "version": "3.12.7"
  }
 },
 "nbformat": 4,
 "nbformat_minor": 5
}

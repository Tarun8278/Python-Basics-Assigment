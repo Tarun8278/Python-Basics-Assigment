{
 "cells": [
  {
   "cell_type": "code",
   "execution_count": 1,
   "id": "e3f71724-eab6-4956-82be-5234b1edd6ec",
   "metadata": {},
   "outputs": [],
   "source": [
    "## Compare and contrast mutable and immutable objects in Python with examples"
   ]
  },
  {
   "cell_type": "code",
   "execution_count": null,
   "id": "0bebbb26-4241-49d2-a0a4-a5b8952ff55e",
   "metadata": {},
   "outputs": [],
   "source": [
    "##In Python, objects can be classified as either mutable or immutable based on whether their state can be changed after they are created. Understanding the difference between these two types is crucial for effective programming.\n",
    "\n",
    "## Mutable Objects:-\n",
    "\n",
    "#Definition: Mutable objects are those that can be modified after they are created. This means you can change their content without changing their identity (the object reference remains the same).\n",
    "\n",
    "# Common Mutable Types:-\n",
    "# 1 Lists\n",
    "# 2 Dictionaries\n",
    "# 3 Sets"
   ]
  },
  {
   "cell_type": "code",
   "execution_count": null,
   "id": "8e3ce4d1-4887-4c5e-a628-0f9eec4ad2e6",
   "metadata": {},
   "outputs": [],
   "source": [
    "# Examples"
   ]
  },
  {
   "cell_type": "code",
   "execution_count": 1,
   "id": "8e038367-cc5c-4ae3-abed-4fe4510222f9",
   "metadata": {},
   "outputs": [
    {
     "name": "stdout",
     "output_type": "stream",
     "text": [
      "[1, 2, 3]\n",
      "[1, 2, 3, 4]\n"
     ]
    }
   ],
   "source": [
    "# 1 Lists:-\n",
    "\n",
    "my_list = [1, 2, 3]\n",
    "print(my_list)  # Output: [1, 2, 3]\n",
    "my_list.append(4)\n",
    "print(my_list)  # Output: [1, 2, 3, 4]\n"
   ]
  },
  {
   "cell_type": "code",
   "execution_count": 2,
   "id": "7d364d7a-9f45-4b1f-ab58-0b57f0ae0d9d",
   "metadata": {},
   "outputs": [
    {
     "name": "stdout",
     "output_type": "stream",
     "text": [
      "{'a': 1, 'b': 2}\n",
      "{'a': 1, 'b': 2, 'c': 3}\n"
     ]
    }
   ],
   "source": [
    "# Dictionaries-\n",
    "\n",
    "my_dict = {'a': 1, 'b': 2}\n",
    "print(my_dict)  # Output: {'a': 1, 'b': 2}\n",
    "my_dict['c'] = 3\n",
    "print(my_dict)  # Output: {'a': 1, 'b': 2, 'c': 3}\n"
   ]
  },
  {
   "cell_type": "code",
   "execution_count": 3,
   "id": "8afe816d-55b7-46ef-9e90-f2f2030e40c3",
   "metadata": {},
   "outputs": [
    {
     "name": "stdout",
     "output_type": "stream",
     "text": [
      "{1, 2, 3}\n",
      "{1, 2, 3, 4}\n"
     ]
    }
   ],
   "source": [
    "# Sets:-\n",
    "\n",
    "my_set = {1, 2, 3}\n",
    "print(my_set)  # Output: {1, 2, 3}\n",
    "my_set.add(4)\n",
    "print(my_set)  # Output: {1, 2, 3, 4}\n"
   ]
  },
  {
   "cell_type": "code",
   "execution_count": 4,
   "id": "7410206c-1685-4f78-8692-397dceb56d33",
   "metadata": {},
   "outputs": [],
   "source": [
    "####### Immutable Objects:-\n",
    "# Definition: Immutable objects cannot be changed after they are created. Any modification results in the creation of a new object rather than altering the original."
   ]
  },
  {
   "cell_type": "code",
   "execution_count": 5,
   "id": "f32d3383-d1de-4b9d-927d-76116a23cc0b",
   "metadata": {},
   "outputs": [],
   "source": [
    "## Common Immutable Types:\n",
    "# 1 Strings\n",
    "# 2 Tuples\n",
    "# 3 Frozensets"
   ]
  },
  {
   "cell_type": "code",
   "execution_count": 6,
   "id": "d018c363-58c0-43b4-83f7-a582762bac72",
   "metadata": {},
   "outputs": [],
   "source": [
    "###Examples:-"
   ]
  },
  {
   "cell_type": "code",
   "execution_count": 7,
   "id": "d8c635e3-42d1-4c70-8c38-e4b0fa10b814",
   "metadata": {},
   "outputs": [
    {
     "name": "stdout",
     "output_type": "stream",
     "text": [
      "Hello\n",
      "Hello World\n"
     ]
    }
   ],
   "source": [
    "# 1 Strings:-\n",
    "\n",
    "my_string = \"Hello\"\n",
    "print(my_string)  # Output: Hello\n",
    "my_string += \" World\"\n",
    "print(my_string)  # Output: Hello World\n",
    "\n",
    "# insights:- In this case, the original string \"Hello\" is not changed; a new string \"Hello World\" is created."
   ]
  },
  {
   "cell_type": "code",
   "execution_count": 8,
   "id": "28c0cdc8-39c2-4fb8-be0d-14f13bbb2809",
   "metadata": {},
   "outputs": [
    {
     "name": "stdout",
     "output_type": "stream",
     "text": [
      "(1, 2, 3)\n",
      "(1, 2, 3, 4)\n"
     ]
    }
   ],
   "source": [
    "# 2 Tuples:-\n",
    "\n",
    "my_tuple = (1, 2, 3)\n",
    "print(my_tuple)  # Output: (1, 2, 3)\n",
    "# my_tuple[0] = 0  # This would raise a TypeError\n",
    "new_tuple = my_tuple + (4,)\n",
    "print(new_tuple)  # Output: (1, 2, 3, 4)\n"
   ]
  },
  {
   "cell_type": "code",
   "execution_count": 9,
   "id": "42fe39e3-8480-4e96-aba2-7bedfa94b375",
   "metadata": {},
   "outputs": [
    {
     "name": "stdout",
     "output_type": "stream",
     "text": [
      "frozenset({1, 2, 3})\n"
     ]
    }
   ],
   "source": [
    "# 3 Frozensets:-\n",
    "\n",
    "my_frozenset = frozenset([1, 2, 3])\n",
    "print(my_frozenset)  # Output: frozenset({1, 2, 3})\n",
    "# my_frozenset.add(4)  # This would raise an AttributeError\n"
   ]
  },
  {
   "cell_type": "code",
   "execution_count": 10,
   "id": "ef651a37-4d2b-4691-8dec-20f9d597c877",
   "metadata": {},
   "outputs": [],
   "source": [
    "### Key Differences\n",
    "\n",
    "# Feature,\t   >>              Mutable Objects,\t                            >>  Immutable Objects\n",
    "# Changeability, >>            Can be modified,\t                              >>  Cannot be modified\n",
    "# Identity,   >>\tIdentity remains the same after modifications,\t       >>> New identity created on modification\n",
    "# Performance,\t>>  Generally more memory efficient for large collections,  >>>>> Can lead to overhead if frequently creating new objects\n",
    "# Use Cases,>>\tIdeal for collections where changes are expected (e.g., lists),  >>> Suitable for fixed collections and ensuring data integrity (e.g., constants)"
   ]
  },
  {
   "cell_type": "code",
   "execution_count": 11,
   "id": "88de3da8-6f14-4ecc-8001-33583986e593",
   "metadata": {},
   "outputs": [],
   "source": [
    "## Conclusion\n",
    "# Understanding mutable and immutable objects is essential in Python, as it affects how you work with data structures, manage memory, and design your programs. Choosing the appropriate type based on your needs can lead to more efficient and reliable code.\n"
   ]
  },
  {
   "cell_type": "code",
   "execution_count": null,
   "id": "ce2186ac-f4b4-4386-8c65-f527c5dd044f",
   "metadata": {},
   "outputs": [],
   "source": []
  }
 ],
 "metadata": {
  "kernelspec": {
   "display_name": "Python 3 (ipykernel)",
   "language": "python",
   "name": "python3"
  },
  "language_info": {
   "codemirror_mode": {
    "name": "ipython",
    "version": 3
   },
   "file_extension": ".py",
   "mimetype": "text/x-python",
   "name": "python",
   "nbconvert_exporter": "python",
   "pygments_lexer": "ipython3",
   "version": "3.12.7"
  }
 },
 "nbformat": 4,
 "nbformat_minor": 5
}

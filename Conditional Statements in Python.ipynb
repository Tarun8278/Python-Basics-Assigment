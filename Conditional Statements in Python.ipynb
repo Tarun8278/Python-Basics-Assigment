{
 "cells": [
  {
   "cell_type": "code",
   "execution_count": 1,
   "id": "ad42ac17-e0fe-4fcb-afc3-c8567566588a",
   "metadata": {},
   "outputs": [],
   "source": [
    "# Conditional Statements in Python"
   ]
  },
  {
   "cell_type": "code",
   "execution_count": 7,
   "id": "0bdc06f4-ba6f-403f-9aa9-0ac024947a6d",
   "metadata": {},
   "outputs": [],
   "source": [
    "## How do conditional statements work in Python? Illustrate with examples0\n"
   ]
  },
  {
   "cell_type": "code",
   "execution_count": 2,
   "id": "4b19d650-7221-4225-86d1-e291ca20beef",
   "metadata": {},
   "outputs": [
    {
     "ename": "IndentationError",
     "evalue": "expected an indented block after 'if' statement on line 8 (1473178893.py, line 10)",
     "output_type": "error",
     "traceback": [
      "\u001b[1;36m  Cell \u001b[1;32mIn[2], line 10\u001b[1;36m\u001b[0m\n\u001b[1;33m    elif another_condition:\u001b[0m\n\u001b[1;37m    ^\u001b[0m\n\u001b[1;31mIndentationError\u001b[0m\u001b[1;31m:\u001b[0m expected an indented block after 'if' statement on line 8\n"
     ]
    }
   ],
   "source": [
    "#Conditional statements in Python allow you to execute certain blocks of code based on whether a condition (or a set of conditions) is true or false. The most common conditional statements are:\n",
    "\n",
    "# if\n",
    "# elif (else if)\n",
    "# else\n",
    "# Syntax of Conditional Statements\n",
    "\n",
    "if condition:\n",
    "    # block of code to execute if condition is True\n",
    "elif another_condition:\n",
    "    # block of code to execute if another_condition is True\n",
    "else:\n",
    "    # block of code to execute if no condition is True\n"
   ]
  },
  {
   "cell_type": "code",
   "execution_count": 3,
   "id": "78ab4d38-095d-4bfa-9a2b-f4e18df82103",
   "metadata": {},
   "outputs": [
    {
     "name": "stdout",
     "output_type": "stream",
     "text": [
      "x is greater than 5\n"
     ]
    }
   ],
   "source": [
    "#1. The if Statement\n",
    "\n",
    "#The if statement checks if a condition is True. If the condition evaluates to True, the code inside the if block will run. If the condition is False, the code inside the if block will be skipped.\n",
    "\n",
    "# Example:\n",
    "\n",
    "x = 10\n",
    "\n",
    "if x > 5:\n",
    "    print(\"x is greater than 5\")\n",
    "\n",
    "# insights:- In this case, since x is 10 (which is greater than 5), the condition x > 5 is True, so the message is printed."
   ]
  },
  {
   "cell_type": "code",
   "execution_count": 4,
   "id": "1ffb5492-4a35-4eb9-897d-35343a9e53da",
   "metadata": {},
   "outputs": [
    {
     "name": "stdout",
     "output_type": "stream",
     "text": [
      "x is less than or equal to 5\n"
     ]
    }
   ],
   "source": [
    "# 2. The else Statement\n",
    "\n",
    "#The else block is executed if the condition in the if statement is False. It provides a fallback option when none of the if or elif conditions are True.\n",
    "\n",
    "# Example:\n",
    "\n",
    "x = 3\n",
    "\n",
    "if x > 5:\n",
    "    print(\"x is greater than 5\")\n",
    "else:\n",
    "    print(\"x is less than or equal to 5\")\n",
    "\n",
    "#insights:- Here, the condition x > 5 is False, so the else block is executed and the message is printed."
   ]
  },
  {
   "cell_type": "code",
   "execution_count": 5,
   "id": "b9310682-5b85-4334-95c1-ba37a1fe0868",
   "metadata": {},
   "outputs": [
    {
     "name": "stdout",
     "output_type": "stream",
     "text": [
      "x is equal to 10\n"
     ]
    }
   ],
   "source": [
    "# 3. The elif Statement (Else If)\n",
    "\n",
    "# The elif statement allows you to check multiple conditions. It is short for \"else if\" and is used when you need to check more than two conditions.\n",
    "\n",
    "# Example:\n",
    "\n",
    "x = 10\n",
    "\n",
    "if x < 5:\n",
    "    print(\"x is less than 5\")\n",
    "elif x == 10:\n",
    "    print(\"x is equal to 10\")\n",
    "else:\n",
    "    print(\"x is greater than 5 but less than 10\")\n",
    "\n",
    "#insights>> In this case, the first condition x < 5 is False, so Python checks the elif condition x == 10, which is True. Therefore, it prints \"x is equal to 10\", and the else block is skipped."
   ]
  },
  {
   "cell_type": "code",
   "execution_count": 6,
   "id": "2ddd1785-bb0e-4fd1-b46b-92d38d766e1e",
   "metadata": {},
   "outputs": [
    {
     "name": "stdout",
     "output_type": "stream",
     "text": [
      "Both conditions are True\n",
      "At least one condition is True\n",
      "x is not less than 5\n"
     ]
    }
   ],
   "source": [
    "# 4. Combining Multiple Conditions\n",
    "\n",
    "# You can combine multiple conditions using logical operators such as and, or, and not.\n",
    "\n",
    "#1 and: All conditions must be True for the block of code to execute.\n",
    "#2 or: At least one condition must be True for the block of code to execute.\n",
    "#3 not: Inverts the boolean value of the condition.\n",
    "\n",
    "# Example using (and):\n",
    "\n",
    "x = 10\n",
    "y = 5\n",
    "\n",
    "if x > 5 and y < 10:\n",
    "    print(\"Both conditions are True\")\n",
    "else:\n",
    "    print(\"At least one condition is False\")\n",
    "\n",
    "#insights >> Since both x > 5 and y < 10 are true, the if block executes.\n",
    "\n",
    "# Example using (or):\n",
    "\n",
    "x = 10\n",
    "y = 15\n",
    "\n",
    "if x > 5 or y < 10:\n",
    "    print(\"At least one condition is True\")\n",
    "else:\n",
    "    print(\"Both conditions are False\")\n",
    "\n",
    "# insights>> Here, x > 5 is True, so the if block runs, even though y < 10 is False.\n",
    "\n",
    "# Example using (not):\n",
    "\n",
    "x = 10\n",
    "\n",
    "if not x < 5:\n",
    "    print(\"x is not less than 5\")\n",
    "else:\n",
    "    print(\"x is less than 5\")\n",
    "\n",
    "    \n",
    "# insights>> The not operator negates the condition, so x < 5 becomes False, and not False becomes True, thus the message is printed."
   ]
  },
  {
   "cell_type": "code",
   "execution_count": null,
   "id": "2ae1aa75-e561-43e2-aad5-b614f17edc57",
   "metadata": {},
   "outputs": [],
   "source": [
    "# 5. Nested Conditional Statements\n",
    "\n",
    "#You can also nest conditional statements inside each other. This means using if, elif, and else statements inside another if, elif, or else block.\n",
    "\n",
    "# Example:\n",
    "\n",
    "x = 8\n",
    "y = 4\n",
    "\n",
    "if x > 5:\n",
    "    if y > 5:\n",
    "        print(\"Both x and y are greater than 5\")\n",
    "    else:\n",
    "        print(\"x is greater than 5, but y is not greater than 5\")\n",
    "else:\n",
    "    print(\"x is not greater than 5\")\n",
    "\n",
    "#insights >> In this case, the first condition x > 5 is True, so Python checks the nested if y > 5 condition. Since y is not greater than 5, the else block inside the first if block runs."
   ]
  },
  {
   "cell_type": "code",
   "execution_count": null,
   "id": "4855b8d7-c2a8-4ef4-b137-a749c7b841fa",
   "metadata": {},
   "outputs": [],
   "source": [
    "###Summary\n",
    "\n",
    "# if:> Executes a block of code if a condition is True.\n",
    "# elif:> Checks another condition if the previous if (or elif) was False.\n",
    "# else:> Executes a block of code if none of the previous conditions were True.\n",
    "# Logical operators (and, or, not) can be used to combine multiple conditions.\n",
    "# Nested conditionals allow for more complex logic by placing if, elif, and else statements inside each other.\n",
    "\n",
    "\n",
    "#By using these conditional statements, you can control the flow of your program and make decisions based on certain criteria."
   ]
  }
 ],
 "metadata": {
  "kernelspec": {
   "display_name": "Python 3 (ipykernel)",
   "language": "python",
   "name": "python3"
  },
  "language_info": {
   "codemirror_mode": {
    "name": "ipython",
    "version": 3
   },
   "file_extension": ".py",
   "mimetype": "text/x-python",
   "name": "python",
   "nbconvert_exporter": "python",
   "pygments_lexer": "ipython3",
   "version": "3.12.7"
  }
 },
 "nbformat": 4,
 "nbformat_minor": 5
}

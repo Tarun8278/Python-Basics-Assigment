{
 "cells": [
  {
   "cell_type": "code",
   "execution_count": 1,
   "id": "da361940-a69b-437b-bf6b-d4714b5cbcde",
   "metadata": {},
   "outputs": [],
   "source": [
    "## Type Casting in Python"
   ]
  },
  {
   "cell_type": "code",
   "execution_count": 2,
   "id": "42b7f610-1148-4e62-9a46-7d7bfb4729b0",
   "metadata": {},
   "outputs": [],
   "source": [
    "## Explain the concept of type casting in Python with examples\n",
    "#Type casting in Python refers to the process of converting one data type to another. In Python, you can explicitly convert between different types using built-in functions. This is important when you want to ensure that data is treated in the correct format for a specific operation or when interacting with different systems or functions that require particular data types."
   ]
  },
  {
   "cell_type": "code",
   "execution_count": 3,
   "id": "4ed0b48b-d9e6-4945-808b-99c443fd49b8",
   "metadata": {},
   "outputs": [],
   "source": [
    "## There are two types of type casting in Python:\n",
    "\n",
    "#1 Implicit Type Casting (or Type Coercion): Python automatically converts one data type to another when it's safe to do so.\n",
    "#2 Explicit Type Casting: The programmer manually converts one data type to another using casting functions."
   ]
  },
  {
   "cell_type": "code",
   "execution_count": 4,
   "id": "3abbb835-6d60-4e4b-b8b5-1a9f60aa3d0b",
   "metadata": {},
   "outputs": [
    {
     "name": "stdout",
     "output_type": "stream",
     "text": [
      "7.5\n"
     ]
    }
   ],
   "source": [
    "# 1. Implicit Type Casting (Automatic)\n",
    "\n",
    "#In implicit type casting, Python automatically converts a smaller data type to a larger one when required. For example, converting an integer to a float when performing an operation.\n",
    "\n",
    "#Example:\n",
    "\n",
    "a = 5          # Integer\n",
    "b = 2.5        # Float\n",
    "\n",
    "result = a + b  # Python automatically converts `a` to float\n",
    "print(result)   # Output: 7.5 (float)\n"
   ]
  },
  {
   "cell_type": "code",
   "execution_count": 5,
   "id": "68cd705c-0617-4a0e-be9c-ec34f06706ae",
   "metadata": {},
   "outputs": [
    {
     "name": "stdout",
     "output_type": "stream",
     "text": [
      "123\n"
     ]
    }
   ],
   "source": [
    "# 2. Explicit Type Casting (Manual Conversion)\n",
    "\n",
    "#Explicit type casting requires the programmer to use functions to convert one data type to another. These functions include:\n",
    "\n",
    "#1 int(): Converts a value to an integer.\n",
    "#2 float(): Converts a value to a float.\n",
    "#3 str(): Converts a value to a string.\n",
    "#4 list(), tuple(), set(): Convert a sequence to a list, tuple, or set respectively.\n",
    "\n",
    "# Example 1: Converting to Integer\n",
    "\n",
    "x = \"123\"       # String\n",
    "y = int(x)      # Convert string to integer\n",
    "print(y)        # Output: 123 (integer)\n"
   ]
  },
  {
   "cell_type": "code",
   "execution_count": 6,
   "id": "3abdf944-244f-41a3-bb35-1bc2dba19138",
   "metadata": {},
   "outputs": [
    {
     "name": "stdout",
     "output_type": "stream",
     "text": [
      "3.14\n",
      "10\n",
      "[1, 2, 3]\n"
     ]
    }
   ],
   "source": [
    "# Example 2: Converting to Float \n",
    "\n",
    "x = \"3.14\"      # String\n",
    "y = float(x)    # Convert string to float\n",
    "print(y)        # Output: 3.14 (float)\n",
    "\n",
    "\n",
    "#Example 3: Converting to String \n",
    "\n",
    "x = 10          # Integer\n",
    "y = str(x)      # Convert integer to string\n",
    "print(y)        # Output: \"10\" (string)\n",
    "\n",
    "\n",
    "# Example 4: Converting to List\n",
    "\n",
    "x = (1, 2, 3)   # Tuple\n",
    "y = list(x)     # Convert tuple to list\n",
    "print(y)        # Output: [1, 2, 3] (list)\n"
   ]
  },
  {
   "cell_type": "code",
   "execution_count": 12,
   "id": "590122ed-eede-4cd3-9535-eeedc7f242b5",
   "metadata": {},
   "outputs": [
    {
     "ename": "ValueError",
     "evalue": "invalid literal for int() with base 10: 'hello'",
     "output_type": "error",
     "traceback": [
      "\u001b[1;31m---------------------------------------------------------------------------\u001b[0m",
      "\u001b[1;31mValueError\u001b[0m                                Traceback (most recent call last)",
      "Cell \u001b[1;32mIn[12], line 6\u001b[0m\n\u001b[0;32m      1\u001b[0m \u001b[38;5;66;03m########   Important Considerations:\u001b[39;00m\n\u001b[0;32m      2\u001b[0m \n\u001b[0;32m      3\u001b[0m \u001b[38;5;66;03m# Value Compatibility: Not all conversions are possible or make sense. For example, trying to convert a string like \"hello\" to an integer would result in an error:\u001b[39;00m\n\u001b[0;32m      5\u001b[0m x \u001b[38;5;241m=\u001b[39m \u001b[38;5;124m\"\u001b[39m\u001b[38;5;124mhello\u001b[39m\u001b[38;5;124m\"\u001b[39m\n\u001b[1;32m----> 6\u001b[0m y \u001b[38;5;241m=\u001b[39m \u001b[38;5;28;43mint\u001b[39;49m\u001b[43m(\u001b[49m\u001b[43mx\u001b[49m\u001b[43m)\u001b[49m  \u001b[38;5;66;03m# This will raise a ValueError\u001b[39;00m\n",
      "\u001b[1;31mValueError\u001b[0m: invalid literal for int() with base 10: 'hello'"
     ]
    }
   ],
   "source": [
    "########   Important Considerations:\n",
    "\n",
    "# Value Compatibility: Not all conversions are possible or make sense. For example, trying to convert a string like \"hello\" to an integer would result in an error:\n",
    "\n",
    "x = \"hello\"\n",
    "y = int(x)  # This will raise a ValueError\n",
    "\n"
   ]
  },
  {
   "cell_type": "code",
   "execution_count": 11,
   "id": "75ab6049-49fa-4c4e-8a6f-a2fb79ed3b41",
   "metadata": {},
   "outputs": [
    {
     "name": "stdout",
     "output_type": "stream",
     "text": [
      "3\n"
     ]
    }
   ],
   "source": [
    "# Precision Loss: Converting a float to an integer will truncate the decimal part (i.e., it will not round it). For example:\n",
    "\n",
    "x = 3.99\n",
    "y = int(x)\n",
    "print(y)  # Output: 3 (decimal part is discarded)\n"
   ]
  },
  {
   "cell_type": "code",
   "execution_count": 13,
   "id": "843896aa-3379-4fd5-bff1-1789a7c593c3",
   "metadata": {},
   "outputs": [],
   "source": [
    "# Summary:\n",
    "\n",
    "# Implicit casting happens automatically when there's no risk of losing data or precision.\n",
    "# Explicit casting is done manually by the programmer using functions like int(), float(), and str().\n",
    "# Always be cautious when performing explicit conversions, especially when converting between types that might not be compatible or may lose precision.\n"
   ]
  },
  {
   "cell_type": "code",
   "execution_count": null,
   "id": "ed56645a-ecfb-4857-8fb7-de674d439570",
   "metadata": {},
   "outputs": [],
   "source": []
  }
 ],
 "metadata": {
  "kernelspec": {
   "display_name": "Python 3 (ipykernel)",
   "language": "python",
   "name": "python3"
  },
  "language_info": {
   "codemirror_mode": {
    "name": "ipython",
    "version": 3
   },
   "file_extension": ".py",
   "mimetype": "text/x-python",
   "name": "python",
   "nbconvert_exporter": "python",
   "pygments_lexer": "ipython3",
   "version": "3.12.7"
  }
 },
 "nbformat": 4,
 "nbformat_minor": 5
}
